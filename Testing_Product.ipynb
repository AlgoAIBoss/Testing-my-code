{
  "nbformat": 4,
  "nbformat_minor": 0,
  "metadata": {
    "colab": {
      "name": "Testing_Product.ipynb",
      "provenance": [],
      "authorship_tag": "ABX9TyNfqgSXlRK1dAgOZsX6zRw1",
      "include_colab_link": true
    },
    "kernelspec": {
      "name": "python3",
      "display_name": "Python 3"
    },
    "language_info": {
      "name": "python"
    }
  },
  "cells": [
    {
      "cell_type": "markdown",
      "metadata": {
        "id": "view-in-github",
        "colab_type": "text"
      },
      "source": [
        "<a href=\"https://colab.research.google.com/github/AlgoAIBoss/Testing-my-code/blob/main/Testing_Product.ipynb\" target=\"_parent\"><img src=\"https://colab.research.google.com/assets/colab-badge.svg\" alt=\"Open In Colab\"/></a>"
      ]
    },
    {
      "cell_type": "markdown",
      "metadata": {
        "id": "Tp5vxTSft45g"
      },
      "source": [
        "# First Type of Testing"
      ]
    },
    {
      "cell_type": "markdown",
      "metadata": {
        "id": "L6_j13kXt_pS"
      },
      "source": [
        "This type is raletively new but native to the Jupyter Notebook"
      ]
    },
    {
      "cell_type": "code",
      "metadata": {
        "id": "mFwnDz-oPlAl"
      },
      "source": [
        "!pip install ipytest"
      ],
      "execution_count": null,
      "outputs": []
    },
    {
      "cell_type": "code",
      "metadata": {
        "id": "hoTx7CVGM_Pm"
      },
      "source": [
        "import pytest\n",
        "\n",
        "import ipytest\n",
        "ipytest.autoconfig()"
      ],
      "execution_count": 1,
      "outputs": []
    },
    {
      "cell_type": "code",
      "metadata": {
        "id": "-yDcydejNBCa"
      },
      "source": [
        "def nearest_square(num):\n",
        "  root = 0\n",
        "  while (root + 1) ** 2 <= num:\n",
        "    root += 1\n",
        "  return root ** 2"
      ],
      "execution_count": 2,
      "outputs": []
    },
    {
      "cell_type": "code",
      "metadata": {
        "colab": {
          "base_uri": "https://localhost:8080/"
        },
        "id": "yebFTjkANIiC",
        "outputId": "12acd664-a2f7-4235-c1f8-551f4bb3ba7a"
      },
      "source": [
        "pytest"
      ],
      "execution_count": 3,
      "outputs": [
        {
          "output_type": "execute_result",
          "data": {
            "text/plain": [
              "<module 'pytest' from '/usr/local/lib/python3.7/dist-packages/pytest.py'>"
            ]
          },
          "metadata": {
            "tags": []
          },
          "execution_count": 3
        }
      ]
    },
    {
      "cell_type": "code",
      "metadata": {
        "colab": {
          "base_uri": "https://localhost:8080/"
        },
        "id": "SWCcK2w0NIee",
        "outputId": "2323e587-931e-49aa-a6d9-01ff27173244"
      },
      "source": [
        "%%ipytest\n",
        "\n",
        "\n",
        "def test_nearest_square_5():\n",
        "  assert(nearest_square(5) == 4)\n",
        "\n",
        "def test_nearest_square_n12():\n",
        "  assert(nearest_square(-12) == 0)\n",
        "\n",
        "def test_nearest_square_9():\n",
        "  assert(nearest_square(9) == 2)\n",
        "\n",
        "def test_nearest_square_23():\n",
        "  assert(nearest_square(23) == 16)\n"
      ],
      "execution_count": 12,
      "outputs": [
        {
          "output_type": "stream",
          "text": [
            "\u001b[32m.\u001b[0m\u001b[32m.\u001b[0m\u001b[31mF\u001b[0m\u001b[32m.\u001b[0m\u001b[31m                                                                                         [100%]\u001b[0m\n",
            "============================================= FAILURES =============================================\n",
            "\u001b[31m\u001b[1m______________________________________ test_nearest_square_9 _______________________________________\u001b[0m\n",
            "\n",
            "    \u001b[94mdef\u001b[39;49;00m \u001b[92mtest_nearest_square_9\u001b[39;49;00m():\n",
            ">     \u001b[94massert\u001b[39;49;00m(nearest_square(\u001b[94m9\u001b[39;49;00m) == \u001b[94m2\u001b[39;49;00m)\n",
            "\u001b[1m\u001b[31mE     assert 9 == 2\u001b[0m\n",
            "\u001b[1m\u001b[31mE      +  where 9 = nearest_square(9)\u001b[0m\n",
            "\n",
            "\u001b[1m\u001b[31m<ipython-input-12-dcfcc9a5d00b>\u001b[0m:10: AssertionError\n",
            "===================================== short test summary info ======================================\n",
            "FAILED tmpwhn53yzm.py::test_nearest_square_9 - assert 9 == 2\n",
            "\u001b[31m\u001b[31m\u001b[1m1 failed\u001b[0m, \u001b[32m3 passed\u001b[0m\u001b[31m in 0.04s\u001b[0m\u001b[0m\n"
          ],
          "name": "stdout"
        }
      ]
    },
    {
      "cell_type": "code",
      "metadata": {
        "colab": {
          "base_uri": "https://localhost:8080/"
        },
        "id": "HlUJTqpoQTH5",
        "outputId": "1ae97a9e-8e8b-446f-b462-2ff4097c3b25"
      },
      "source": [
        "%%ipytest\n",
        "\n",
        "# define the tests\n",
        "\n",
        "def test_my_func():\n",
        "    assert my_func(0) == 0\n",
        "    assert my_func(1) == 0\n",
        "    assert my_func(2) == 2\n",
        "    assert my_func(3) == 2\n",
        "    \n",
        "    \n",
        "def my_func(x):\n",
        "    return x // 2 * 2"
      ],
      "execution_count": 7,
      "outputs": [
        {
          "output_type": "stream",
          "text": [
            "\u001b[32m.\u001b[0m\u001b[32m                                                                                            [100%]\u001b[0m\n",
            "\u001b[32m\u001b[32m\u001b[1m1 passed\u001b[0m\u001b[32m in 0.01s\u001b[0m\u001b[0m\n"
          ],
          "name": "stdout"
        }
      ]
    },
    {
      "cell_type": "code",
      "metadata": {
        "colab": {
          "base_uri": "https://localhost:8080/"
        },
        "id": "4Iu59ZRwNIcv",
        "outputId": "6d3c7798-3c0d-4c80-a33e-949a148f6670"
      },
      "source": [
        "%%ipytest\n",
        "\n",
        "import pytest\n",
        "\n",
        "@pytest.mark.parametrize('input,expected', [\n",
        "    (0, 0),\n",
        "    (1, 0),\n",
        "    (2, 2),\n",
        "    (3, 2),\n",
        "])\n",
        "def test_parametrized(input, expected):\n",
        "    assert my_func(input) == expected\n",
        "    \n",
        "    \n",
        "@pytest.fixture\n",
        "def my_fixture():\n",
        "    return 42\n",
        "    \n",
        "    \n",
        "def test_fixture(my_fixture):\n",
        "    assert my_fixture == 42"
      ],
      "execution_count": 8,
      "outputs": [
        {
          "output_type": "stream",
          "text": [
            "\u001b[32m.\u001b[0m\u001b[32m.\u001b[0m\u001b[32m.\u001b[0m\u001b[32m.\u001b[0m\u001b[32m.\u001b[0m\u001b[32m                                                                                        [100%]\u001b[0m\n",
            "\u001b[32m\u001b[32m\u001b[1m5 passed\u001b[0m\u001b[32m in 0.03s\u001b[0m\u001b[0m\n"
          ],
          "name": "stdout"
        }
      ]
    },
    {
      "cell_type": "code",
      "metadata": {
        "id": "mOfbcflsNIan"
      },
      "source": [
        "import ipytest\n",
        "ipytest.autoconfig()"
      ],
      "execution_count": 9,
      "outputs": []
    },
    {
      "cell_type": "code",
      "metadata": {
        "colab": {
          "base_uri": "https://localhost:8080/"
        },
        "id": "yopOJAA1NIYO",
        "outputId": "0367563a-975a-4d5e-d5d1-c5f845690473"
      },
      "source": [
        "\n",
        "%%ipytest --doctest-modules\n",
        "def foo(x):\n",
        "    \"\"\"\n",
        "    >>> foo(2)\n",
        "    4\n",
        "    \"\"\"\n",
        "    return x*2"
      ],
      "execution_count": 10,
      "outputs": [
        {
          "output_type": "stream",
          "text": [
            "\u001b[32m.\u001b[0m\u001b[32m                                                                                            [100%]\u001b[0m\n",
            "\u001b[32m\u001b[32m\u001b[1m1 passed\u001b[0m\u001b[32m in 0.04s\u001b[0m\u001b[0m\n"
          ],
          "name": "stdout"
        }
      ]
    },
    {
      "cell_type": "markdown",
      "metadata": {
        "id": "GsH9Gz4Ytmxn"
      },
      "source": [
        "# Second Type of Testing"
      ]
    },
    {
      "cell_type": "code",
      "metadata": {
        "id": "NqvjPoCptpzn"
      },
      "source": [
        "import math\n",
        "import matplotlib.pyplot as plt\n",
        "\n",
        "\n",
        "class Gaussian():\n",
        "\n",
        "  def __init__(self, mu=0, sigma=1):\n",
        "\n",
        "    self.mean = mu\n",
        "    self.stdev = sigma\n",
        "    self.data = []\n",
        "\n",
        "  def calculate_mean(self):\n",
        "\n",
        "    avg = 1.0 * sum(self.data) / len(self.data)\n",
        "    self.mean = avg\n",
        "    return self.mean\n",
        "\n",
        "  \n",
        "  def calculate_stdev(self, sample=True):\n",
        "\n",
        "    if sample:\n",
        "      n = len(self.data) - 1\n",
        "    else:\n",
        "      n = len(self.data)\n",
        "\n",
        "    mean = self.mean\n",
        "\n",
        "    sigma = 0\n",
        "\n",
        "    for d in self.data:\n",
        "      sigma += (d - mean) ** 2\n",
        "\n",
        "    sigma = math.sqrt(sigma / n)\n",
        "\n",
        "    self.stdev = sigma\n",
        "\n",
        "    return self.stdev\n",
        "\n",
        "  \n",
        "\n",
        "  def read_data_file(self, file_name, sample=True):\n",
        "\n",
        "    with open(file_name) as file:\n",
        "      data_list = []\n",
        "      line = file.readline()\n",
        "\n",
        "      while line:\n",
        "        data_list.append(int(line))\n",
        "        line = file.readline()\n",
        "    file.close()\n",
        "\n",
        "    self.data = data_list\n",
        "    self.mean = self.calculate_mean()\n",
        "    self.stdev = self.calculate_stdev(sample)\n",
        "\n",
        "\n",
        "  \n",
        "  def plot_histogram(self):\n",
        "\n",
        "    plt.hist(self.data)\n",
        "    plt.title('Histogram of Data')\n",
        "    plt.xlabel('data')\n",
        "    plt.ylabel('count')\n",
        "\n",
        "  \n",
        "  def pdf(self, x):\n",
        "\n",
        "    return (1.0 / (self.stdev * math.sqrt(2 * math.pi))) * math.exp(-0.5 * ((x - self.mean) / self.stdev) ** 2)\n",
        "\n",
        "  \n",
        "  def plot_histogram_pdf(self, n_spaces = 50):\n",
        "\n",
        "    mu = self.mean\n",
        "    sigma = self.stdev\n",
        "\n",
        "    min_range = min(self.data)\n",
        "    max_range = max(self.data)\n",
        "\n",
        "    interval = 1.0 * (max_range - min_range) / n_spaces\n",
        "\n",
        "    x = []\n",
        "    y = []\n",
        "\n",
        "    for i in range(n_spaces):\n",
        "      tmp = min_range + interval * i\n",
        "      x.append(tmp)\n",
        "      y.append(self.pdf(tmp))\n",
        "\n",
        "    \n",
        "    fig, axes = plt.subplot(2, sharex=True)\n",
        "    fig.subplot_adjust(hspace=.5)\n",
        "    axes[0].hist(self.data, density=True)\n",
        "    axes[0].set_title('Normed Histogram of Data')\n",
        "    axes[0].set_ylabel('Density')\n",
        "\n",
        "    axes[1].plot(x, y)\n",
        "    axes[1].set_title('Normal Distribution for \\n Sample Mean and Sample Standard Deviation')\n",
        "    axes[0].set_ylabel('Density')\n",
        "    plt.show()\n",
        "    \n",
        "    return x, y\n",
        "  "
      ],
      "execution_count": null,
      "outputs": []
    },
    {
      "cell_type": "code",
      "metadata": {
        "id": "luSx89Xstsjz"
      },
      "source": [
        "gaussian_one = Gaussian()\n",
        "gaussian_one.read_data_file('number.txt')"
      ],
      "execution_count": null,
      "outputs": []
    },
    {
      "cell_type": "code",
      "metadata": {
        "id": "X39ovsTFtuLq"
      },
      "source": [
        "print(gaussian_one.mean)\n",
        "print(gaussian_one.stdev)"
      ],
      "execution_count": null,
      "outputs": []
    },
    {
      "cell_type": "code",
      "metadata": {
        "id": "jiNyvZv1twyG"
      },
      "source": [
        "gaussian_one.plot_histogram()"
      ],
      "execution_count": null,
      "outputs": []
    },
    {
      "cell_type": "code",
      "metadata": {
        "id": "I4Fc6yC1tzDg"
      },
      "source": [
        "gaussian_one.plot_histogram_pdf()"
      ],
      "execution_count": null,
      "outputs": []
    },
    {
      "cell_type": "code",
      "metadata": {
        "id": "Zqeh4536t01V"
      },
      "source": [
        "import unittest\n",
        "\n",
        "class TestGaussianClass(unittest.TestCase):\n",
        "  def setUp(self):\n",
        "    self.gaussian = Gaussian(25, 2)\n",
        "\n",
        "  def test_initialization(self):\n",
        "    self.assertEqual(self.gaussian.mean, 25, 'incorrect mean')\n",
        "    self.assertEqual(self.gaussian.stdev, 2, 'incorrect standard deviation')\n",
        "\n",
        "  def test_pdf(self):\n",
        "    self.assertEqual(round(self.gaussian.pdf(25), 5), 0.19947, 'pdf function done not give expected result')\n",
        "\n",
        "  def test_meancalculation(self):\n",
        "    self.guassian.read_data_file('number.txt', True)\n",
        "    self.assertEqual(self.guassian.calculate_mean(), sum(self.guassian.data) / float(len(self.guassian.data)), 'calculated mean not as expected')\n",
        "\n",
        "  def test_stdevcalculation(self):\n",
        "    self.guassian.read_data_file('number.txt', True)\n",
        "    self.assertEqual(round(self.guassian.stdev, 2), 92.87, 'sample standard deviation incorrect')\n",
        "    self.guassian.read_data_file('number.txt', False)\n",
        "    self.assertEqual(round(self.guassian.stdev, 2), 88.55, 'population standard deviation incorrect')\n",
        "\n",
        "\n",
        "tests = TestGaussianClass()\n",
        "\n",
        "tests_loaded = unittest.TestLoader().loadTestsFromModule(tests)\n",
        "\n",
        "unittest.TextTestRunner().run(tests_loaded)\n",
        "    "
      ],
      "execution_count": null,
      "outputs": []
    }
  ]
}